{
 "cells": [
  {
   "cell_type": "code",
   "execution_count": 1,
   "metadata": {},
   "outputs": [],
   "source": [
    "import pandas as pd"
   ]
  },
  {
   "cell_type": "code",
   "execution_count": 2,
   "metadata": {},
   "outputs": [],
   "source": [
    "import numpy as np"
   ]
  },
  {
   "cell_type": "code",
   "execution_count": 3,
   "metadata": {},
   "outputs": [],
   "source": [
    "import matplotlib.pyplot as plt \n",
    "from scipy.io import loadmat\n",
    "from IPython.display import Image"
   ]
  },
  {
   "cell_type": "code",
   "execution_count": 4,
   "metadata": {},
   "outputs": [],
   "source": [
    "path=r\"C:\\Users\\王飘鸿\\Desktop\\机器学习\\吴恩达作业\\machine-learning-ex7\\ex7\"\n",
    "path1=path+\"/ex7data2.mat\""
   ]
  },
  {
   "cell_type": "code",
   "execution_count": 5,
   "metadata": {},
   "outputs": [],
   "source": [
    "data1=loadmat(path1)"
   ]
  },
  {
   "cell_type": "code",
   "execution_count": 6,
   "metadata": {},
   "outputs": [],
   "source": [
    "data1=data1[\"X\"]"
   ]
  },
  {
   "cell_type": "code",
   "execution_count": 7,
   "metadata": {},
   "outputs": [
    {
     "data": {
      "text/plain": [
       "array([[1.84207953, 4.6075716 ],\n",
       "       [5.65858312, 4.79996405],\n",
       "       [6.35257892, 3.2908545 ],\n",
       "       [2.90401653, 4.61220411],\n",
       "       [3.23197916, 4.93989405]])"
      ]
     },
     "execution_count": 7,
     "metadata": {},
     "output_type": "execute_result"
    }
   ],
   "source": [
    "data1[:5]"
   ]
  },
  {
   "cell_type": "code",
   "execution_count": 8,
   "metadata": {},
   "outputs": [],
   "source": [
    "def find_closest_centroid(data,centroid):\n",
    "    belong_centroid=[]\n",
    "    orign_data=data\n",
    "    orign_centroid=centroid\n",
    "    data=np.matrix(data)\n",
    "    centroid=np.matrix(centroid)\n",
    "    for i in range(len(data)):\n",
    "        closest_distance=(data[i]-centroid[0]).dot((data[i]-centroid[0]).T)\n",
    "        belong_centroid.append(0)\n",
    "        for j in range(len(centroid)):\n",
    "            distance=(data[i]-centroid[j]).dot((data[i]-centroid[j]).T)\n",
    "            if(distance< closest_distance):\n",
    "                closest_distance=distance\n",
    "                belong_centroid[i]=j\n",
    "    return np.array(belong_centroid)"
   ]
  },
  {
   "cell_type": "code",
   "execution_count": 9,
   "metadata": {},
   "outputs": [],
   "source": [
    "belong_centroid=find_closest_centroid(data=data1,centroid=np.array([[3, 3], [6, 2], [8, 5]]))"
   ]
  },
  {
   "cell_type": "code",
   "execution_count": 10,
   "metadata": {},
   "outputs": [
    {
     "data": {
      "text/plain": [
       "array([0, 2, 1, 0, 0, 0, 0, 0, 0, 0])"
      ]
     },
     "execution_count": 10,
     "metadata": {},
     "output_type": "execute_result"
    }
   ],
   "source": [
    "belong_centroid[:10]"
   ]
  },
  {
   "cell_type": "code",
   "execution_count": 11,
   "metadata": {},
   "outputs": [],
   "source": [
    "#########最小距离函数模块测试成功\n",
    "#########展示数据"
   ]
  },
  {
   "cell_type": "code",
   "execution_count": 12,
   "metadata": {},
   "outputs": [
    {
     "data": {
      "text/plain": [
       "array([2.42830111, 3.15792418])"
      ]
     },
     "execution_count": 12,
     "metadata": {},
     "output_type": "execute_result"
    }
   ],
   "source": [
    "np.mean(data1[np.where(belong_centroid==0)],axis=0)"
   ]
  },
  {
   "cell_type": "code",
   "execution_count": 13,
   "metadata": {},
   "outputs": [],
   "source": [
    "def caculate_centroid(data,centroid,belong_centroid):\n",
    "    for i in range(len(centroid)):\n",
    "        centroid[i]=np.mean(data[np.where(belong_centroid==i)],axis=0)\n",
    "    return centroid"
   ]
  },
  {
   "cell_type": "code",
   "execution_count": 14,
   "metadata": {},
   "outputs": [
    {
     "data": {
      "text/plain": [
       "[array([2.42830111, 3.15792418]),\n",
       " array([5.81350331, 2.63365645]),\n",
       " array([7.11938687, 3.6166844 ])]"
      ]
     },
     "execution_count": 14,
     "metadata": {},
     "output_type": "execute_result"
    }
   ],
   "source": [
    "caculate_centroid(data=data1,centroid=[0,1,2],belong_centroid=belong_centroid)"
   ]
  },
  {
   "cell_type": "code",
   "execution_count": 15,
   "metadata": {},
   "outputs": [],
   "source": [
    "def k_means(data,init_centroid,iters):\n",
    "    belong_centroid=find_closest_centroid(data=data,centroid=init_centroid)\n",
    "    centroid=caculate_centroid(data=data,centroid=init_centroid,belong_centroid=belong_centroid)\n",
    "    for i in range(iters):\n",
    "        belong_centroid=find_closest_centroid(data=data,centroid=centroid)\n",
    "        centroid=caculate_centroid(data=data,centroid=centroid,belong_centroid=belong_centroid)\n",
    "    return belong_centroid,centroid"
   ]
  },
  {
   "cell_type": "code",
   "execution_count": 16,
   "metadata": {},
   "outputs": [],
   "source": [
    "belong_centroid,centroid=k_means(data=data1,init_centroid=np.array([[3, 3], [6, 2], [8, 5]]),iters=3)"
   ]
  },
  {
   "cell_type": "code",
   "execution_count": 17,
   "metadata": {},
   "outputs": [],
   "source": [
    "def plot_data(data, belong_centroid):\n",
    "    fig,ax=plt.subplots(figsize=(3,5))\n",
    "    ax.scatter(x=data1[np.where(belong_centroid==0)][:,0],y=data1[np.where(belong_centroid==0)][:,1],c=\"r\")\n",
    "    ax.scatter(x=data1[np.where(belong_centroid==1)][:,0],y=data1[np.where(belong_centroid==1)][:,1],c=\"b\")\n",
    "    ax.scatter(x=data1[np.where(belong_centroid==2)][:,0],y=data1[np.where(belong_centroid==2)][:,1],c=\"g\")\n",
    "    plt.show()"
   ]
  },
  {
   "cell_type": "code",
   "execution_count": 18,
   "metadata": {},
   "outputs": [
    {
     "data": {
      "image/png": "[encoded data removed]",
      "text/plain": [
       "<Figure size 216x360 with 1 Axes>"
      ]
     },
     "metadata": {
      "needs_background": "light"
     },
     "output_type": "display_data"
    }
   ],
   "source": [
    "plot_data(data=data1, belong_centroid=belong_centroid)\n",
    "#############效果还算ok"
   ]
  },
  {
   "cell_type": "code",
   "execution_count": 19,
   "metadata": {},
   "outputs": [],
   "source": [
    "#################生成随机初始中心点的函数\n",
    "#################是从已有的数据中挑出点来做圆心"
   ]
  },
  {
   "cell_type": "code",
   "execution_count": 20,
   "metadata": {},
   "outputs": [],
   "source": [
    "def random_init(data,centroid_number):\n",
    "    init_number=np.random.randint(0,len(data),centroid_number)\n",
    "    return data[init_number]"
   ]
  },
  {
   "cell_type": "code",
   "execution_count": 21,
   "metadata": {},
   "outputs": [
    {
     "data": {
      "text/plain": [
       "array([[3.30063655, 1.28107588],\n",
       "       [2.79588724, 0.99526664],\n",
       "       [2.53446019, 1.21562081]])"
      ]
     },
     "execution_count": 21,
     "metadata": {},
     "output_type": "execute_result"
    }
   ],
   "source": [
    "random_init(data=data1,centroid_number=3)"
   ]
  },
  {
   "cell_type": "code",
   "execution_count": 22,
   "metadata": {},
   "outputs": [],
   "source": [
    "#############开始做第二部分，图片降维"
   ]
  },
  {
   "cell_type": "code",
   "execution_count": 23,
   "metadata": {},
   "outputs": [],
   "source": [
    "path2=path+\"/bird_small.png\""
   ]
  },
  {
   "cell_type": "code",
   "execution_count": 24,
   "metadata": {},
   "outputs": [
    {
     "data": {
      "image/png": "[encoded data removed]",
      "text/plain": [
       "<IPython.core.display.Image object>"
      ]
     },
     "execution_count": 24,
     "metadata": {},
     "output_type": "execute_result"
    }
   ],
   "source": [
    "Image(path2)"
   ]
  },
  {
   "cell_type": "code",
   "execution_count": 25,
   "metadata": {},
   "outputs": [],
   "source": [
    "data2=loadmat(path+\"/bird_small.mat\")['A']\n",
    "orign_data2=loadmat(path+\"/bird_small.mat\")['A']"
   ]
  },
  {
   "cell_type": "code",
   "execution_count": 26,
   "metadata": {},
   "outputs": [],
   "source": [
    "orign_data2=loadmat(path+\"/bird_small.mat\")['A']"
   ]
  },
  {
   "cell_type": "code",
   "execution_count": 27,
   "metadata": {},
   "outputs": [],
   "source": [
    "#####数据处理\n",
    "data2\n",
    "data2=data2/255\n",
    "data2=data2.reshape(data2.shape[0]*data2.shape[1],data2.shape[2])"
   ]
  },
  {
   "cell_type": "code",
   "execution_count": 28,
   "metadata": {},
   "outputs": [
    {
     "data": {
      "text/plain": [
       "array([[0.85882353, 0.70588235, 0.40392157],\n",
       "       [0.90196078, 0.7254902 , 0.45490196],\n",
       "       [0.88627451, 0.72941176, 0.43137255],\n",
       "       ...,\n",
       "       [0.25490196, 0.16862745, 0.15294118],\n",
       "       [0.22745098, 0.14509804, 0.14901961],\n",
       "       [0.20392157, 0.15294118, 0.13333333]])"
      ]
     },
     "execution_count": 28,
     "metadata": {},
     "output_type": "execute_result"
    }
   ],
   "source": [
    "data2"
   ]
  },
  {
   "cell_type": "code",
   "execution_count": 29,
   "metadata": {},
   "outputs": [
    {
     "data": {
      "text/plain": [
       "(16384, 3)"
      ]
     },
     "execution_count": 29,
     "metadata": {},
     "output_type": "execute_result"
    }
   ],
   "source": [
    "data2.shape"
   ]
  },
  {
   "cell_type": "code",
   "execution_count": 30,
   "metadata": {},
   "outputs": [],
   "source": [
    "init_centroids2=random_init(data=data2,centroid_number=16)"
   ]
  },
  {
   "cell_type": "code",
   "execution_count": 31,
   "metadata": {},
   "outputs": [
    {
     "data": {
      "text/plain": [
       "array([[0.85098039, 0.7372549 , 0.76470588],\n",
       "       [0.74117647, 0.56470588, 0.25490196],\n",
       "       [0.51372549, 0.37254902, 0.36862745],\n",
       "       [0.92156863, 0.45882353, 0.26666667],\n",
       "       [0.11764706, 0.1254902 , 0.14117647],\n",
       "       [0.60784314, 0.50980392, 0.49411765],\n",
       "       [0.51764706, 0.5254902 , 0.38039216],\n",
       "       [0.26666667, 0.22745098, 0.22352941],\n",
       "       [0.20392157, 0.19607843, 0.2       ],\n",
       "       [0.96470588, 0.95294118, 0.83921569],\n",
       "       [0.78039216, 0.64705882, 0.41568627],\n",
       "       [0.79607843, 0.71372549, 0.68235294],\n",
       "       [0.58431373, 0.49803922, 0.42745098],\n",
       "       [0.11764706, 0.11764706, 0.09803922],\n",
       "       [0.99215686, 0.79215686, 0.64313725],\n",
       "       [0.58039216, 0.54509804, 0.51764706]])"
      ]
     },
     "execution_count": 31,
     "metadata": {},
     "output_type": "execute_result"
    }
   ],
   "source": [
    "init_centroids2"
   ]
  },
  {
   "cell_type": "code",
   "execution_count": 32,
   "metadata": {},
   "outputs": [],
   "source": [
    "belong_centroid=find_closest_centroid(data=data2,centroid=init_centroids2)"
   ]
  },
  {
   "cell_type": "code",
   "execution_count": 33,
   "metadata": {},
   "outputs": [
    {
     "data": {
      "text/plain": [
       "(16384,)"
      ]
     },
     "execution_count": 33,
     "metadata": {},
     "output_type": "execute_result"
    }
   ],
   "source": [
    "belong_centroid.shape"
   ]
  },
  {
   "cell_type": "code",
   "execution_count": 34,
   "metadata": {},
   "outputs": [
    {
     "data": {
      "text/plain": [
       "array([10, 10, 10, ...,  8,  8,  8])"
      ]
     },
     "execution_count": 34,
     "metadata": {},
     "output_type": "execute_result"
    }
   ],
   "source": [
    "belong_centroid"
   ]
  },
  {
   "cell_type": "code",
   "execution_count": 35,
   "metadata": {},
   "outputs": [],
   "source": [
    "belong_centroid2,centroid2=k_means(data=data2,init_centroid=init_centroids2,iters=10)"
   ]
  },
  {
   "cell_type": "code",
   "execution_count": 36,
   "metadata": {},
   "outputs": [],
   "source": [
    "x2_zip=np.reshape(centroid2[belong_centroid2],(orign_data2.shape[0],orign_data2.shape[1],orign_data2.shape[2]))"
   ]
  },
  {
   "cell_type": "code",
   "execution_count": 37,
   "metadata": {},
   "outputs": [
    {
     "data": {
      "text/plain": [
       "array([[[0.85615459, 0.70876044, 0.44658142],\n",
       "        [0.85615459, 0.70876044, 0.44658142],\n",
       "        [0.85615459, 0.70876044, 0.44658142],\n",
       "        ...,\n",
       "        [0.07857306, 0.0850892 , 0.07465606],\n",
       "        [0.07857306, 0.0850892 , 0.07465606],\n",
       "        [0.07857306, 0.0850892 , 0.07465606]],\n",
       "\n",
       "       [[0.85615459, 0.70876044, 0.44658142],\n",
       "        [0.85615459, 0.70876044, 0.44658142],\n",
       "        [0.85615459, 0.70876044, 0.44658142],\n",
       "        ...,\n",
       "        [0.07857306, 0.0850892 , 0.07465606],\n",
       "        [0.07857306, 0.0850892 , 0.07465606],\n",
       "        [0.07857306, 0.0850892 , 0.07465606]],\n",
       "\n",
       "       [[0.85615459, 0.70876044, 0.44658142],\n",
       "        [0.85615459, 0.70876044, 0.44658142],\n",
       "        [0.85615459, 0.70876044, 0.44658142],\n",
       "        ...,\n",
       "        [0.07857306, 0.0850892 , 0.07465606],\n",
       "        [0.07857306, 0.0850892 , 0.07465606],\n",
       "        [0.07857306, 0.0850892 , 0.07465606]],\n",
       "\n",
       "       ...,\n",
       "\n",
       "       [[0.07857306, 0.0850892 , 0.07465606],\n",
       "        [0.07857306, 0.0850892 , 0.07465606],\n",
       "        [0.07857306, 0.0850892 , 0.07465606],\n",
       "        ...,\n",
       "        [0.21969922, 0.20771749, 0.20155721],\n",
       "        [0.21969922, 0.20771749, 0.20155721],\n",
       "        [0.21969922, 0.20771749, 0.20155721]],\n",
       "\n",
       "       [[0.07857306, 0.0850892 , 0.07465606],\n",
       "        [0.07857306, 0.0850892 , 0.07465606],\n",
       "        [0.07857306, 0.0850892 , 0.07465606],\n",
       "        ...,\n",
       "        [0.21969922, 0.20771749, 0.20155721],\n",
       "        [0.21969922, 0.20771749, 0.20155721],\n",
       "        [0.21969922, 0.20771749, 0.20155721]],\n",
       "\n",
       "       [[0.07857306, 0.0850892 , 0.07465606],\n",
       "        [0.07857306, 0.0850892 , 0.07465606],\n",
       "        [0.07857306, 0.0850892 , 0.07465606],\n",
       "        ...,\n",
       "        [0.21969922, 0.20771749, 0.20155721],\n",
       "        [0.21969922, 0.20771749, 0.20155721],\n",
       "        [0.13337421, 0.1408639 , 0.13210228]]])"
      ]
     },
     "execution_count": 37,
     "metadata": {},
     "output_type": "execute_result"
    }
   ],
   "source": [
    "x2_zip"
   ]
  },
  {
   "cell_type": "code",
   "execution_count": 38,
   "metadata": {},
   "outputs": [
    {
     "data": {
      "text/plain": [
       "<matplotlib.image.AxesImage at 0x15727f35f08>"
      ]
     },
     "execution_count": 38,
     "metadata": {},
     "output_type": "execute_result"
    },
    {
     "data": {
      "image/png": "[encoded data removed]",
      "text/plain": [
       "<Figure size 432x288 with 1 Axes>"
      ]
     },
     "metadata": {
      "needs_background": "light"
     },
     "output_type": "display_data"
    }
   ],
   "source": [
    "plt.imshow(x2_zip)\n",
    "###########################压缩成功"
   ]
  },
  {
   "cell_type": "code",
   "execution_count": 39,
   "metadata": {},
   "outputs": [],
   "source": [
    "##############下面是PCA部分"
   ]
  },
  {
   "cell_type": "code",
   "execution_count": 40,
   "metadata": {},
   "outputs": [],
   "source": [
    "path=r\"C:\\Users\\王飘鸿\\Desktop\\机器学习\\吴恩达作业\\machine-learning-ex7\\ex7\""
   ]
  },
  {
   "cell_type": "code",
   "execution_count": 41,
   "metadata": {},
   "outputs": [],
   "source": [
    "path3=path+\"/ex7data1.mat\""
   ]
  },
  {
   "cell_type": "code",
   "execution_count": 42,
   "metadata": {},
   "outputs": [],
   "source": [
    "data3=loadmat(path3)[\"X\"]"
   ]
  },
  {
   "cell_type": "code",
   "execution_count": 43,
   "metadata": {},
   "outputs": [
    {
     "data": {
      "text/plain": [
       "array([[3.38156267, 3.38911268],\n",
       "       [4.52787538, 5.8541781 ],\n",
       "       [2.65568187, 4.41199472],\n",
       "       [2.76523467, 3.71541365],\n",
       "       [2.84656011, 4.17550645],\n",
       "       [3.89067196, 6.48838087],\n",
       "       [3.47580524, 3.63284876],\n",
       "       [5.91129845, 6.68076853],\n",
       "       [3.92889397, 5.09844661],\n",
       "       [4.56183537, 5.62329929]])"
      ]
     },
     "execution_count": 43,
     "metadata": {},
     "output_type": "execute_result"
    }
   ],
   "source": [
    "data3[:10]"
   ]
  },
  {
   "cell_type": "code",
   "execution_count": 44,
   "metadata": {},
   "outputs": [],
   "source": [
    "def plot_init_data3(data):\n",
    "    fig,ax=plt.subplots(figsize=(12,8))\n",
    "    ax.scatter(x=data3[:,0],y=data3[:,1],c=\"r\")\n",
    "    plt.show()"
   ]
  },
  {
   "cell_type": "code",
   "execution_count": 45,
   "metadata": {},
   "outputs": [
    {
     "data": {
      "image/png": "[encoded data removed]",
      "text/plain": [
       "<Figure size 864x576 with 1 Axes>"
      ]
     },
     "metadata": {
      "needs_background": "light"
     },
     "output_type": "display_data"
    }
   ],
   "source": [
    "plot_init_data3(data=data3)"
   ]
  },
  {
   "cell_type": "code",
   "execution_count": 76,
   "metadata": {},
   "outputs": [
    {
     "data": {
      "text/plain": [
       "array([[3.38156267, 3.38911268],\n",
       "       [4.52787538, 5.8541781 ],\n",
       "       [2.65568187, 4.41199472],\n",
       "       [2.76523467, 3.71541365],\n",
       "       [2.84656011, 4.17550645],\n",
       "       [3.89067196, 6.48838087],\n",
       "       [3.47580524, 3.63284876],\n",
       "       [5.91129845, 6.68076853],\n",
       "       [3.92889397, 5.09844661],\n",
       "       [4.56183537, 5.62329929]])"
      ]
     },
     "execution_count": 76,
     "metadata": {},
     "output_type": "execute_result"
    }
   ],
   "source": [
    "data3[:10]"
   ]
  },
  {
   "cell_type": "code",
   "execution_count": 77,
   "metadata": {},
   "outputs": [
    {
     "data": {
      "text/plain": [
       "array([3.98926528, 5.00280585])"
      ]
     },
     "execution_count": 77,
     "metadata": {},
     "output_type": "execute_result"
    }
   ],
   "source": [
    "data3.mean(axis=0)"
   ]
  },
  {
   "cell_type": "code",
   "execution_count": 78,
   "metadata": {},
   "outputs": [
    {
     "data": {
      "text/plain": [
       "array([1.16126017, 1.01312201])"
      ]
     },
     "execution_count": 78,
     "metadata": {},
     "output_type": "execute_result"
    }
   ],
   "source": [
    "data3.std(axis=0)"
   ]
  },
  {
   "cell_type": "code",
   "execution_count": 82,
   "metadata": {},
   "outputs": [
    {
     "data": {
      "text/plain": [
       "array([-1.17683641e-16,  1.12354570e-15])"
      ]
     },
     "execution_count": 82,
     "metadata": {},
     "output_type": "execute_result"
    }
   ],
   "source": [
    "np.mean((data3-data3.mean(axis=0))/data3.std(axis=0),axis=0)"
   ]
  },
  {
   "cell_type": "code",
   "execution_count": 97,
   "metadata": {},
   "outputs": [],
   "source": [
    "#####不调包纯pyhton数值计算\n",
    "def caculate_pcb(data,principal_k):\n",
    "    processed_data=np.matrix((data-data.mean(axis=0))/(data.std(axis=0)))\n",
    "    caculated_data=(processed_data.T).dot(processed_data)/processed_data.shape[0]\n",
    "    eigenvalue,featurevector=np.linalg.eig(caculated_data)\n",
    "    return eigenvalue,featurevector"
   ]
  },
  {
   "cell_type": "code",
   "execution_count": 148,
   "metadata": {},
   "outputs": [],
   "source": [
    "def caculate_pcb(data):\n",
    "    processed_data=np.matrix(data.T)\n",
    "    caculated_data=(processed_data.T).dot(processed_data)\n",
    "    eigenvalue,featurevector=np.linalg.eig(caculated_data)\n",
    "    \n",
    "    V=featurevector.T\n",
    "    eigenvalue=np.sqrt(eigenvalue)\n",
    "    U=processed_data*V\n",
    "    return U"
   ]
  },
  {
   "cell_type": "code",
   "execution_count": 147,
   "metadata": {},
   "outputs": [
    {
     "data": {
      "text/plain": [
       "array([[3.38156267, 3.38911268],\n",
       "       [4.52787538, 5.8541781 ],\n",
       "       [2.65568187, 4.41199472],\n",
       "       [2.76523467, 3.71541365],\n",
       "       [2.84656011, 4.17550645],\n",
       "       [3.89067196, 6.48838087],\n",
       "       [3.47580524, 3.63284876],\n",
       "       [5.91129845, 6.68076853],\n",
       "       [3.92889397, 5.09844661],\n",
       "       [4.56183537, 5.62329929],\n",
       "       [4.57407171, 5.39765069],\n",
       "       [4.37173356, 5.46116549],\n",
       "       [4.19169388, 4.95469359],\n",
       "       [5.24408518, 4.66148767],\n",
       "       [2.8358402 , 3.76801716],\n",
       "       [5.63526969, 6.31211438],\n",
       "       [4.68632968, 5.6652411 ],\n",
       "       [2.85051337, 4.62645627],\n",
       "       [5.1101573 , 7.36319662],\n",
       "       [5.18256377, 4.64650909],\n",
       "       [5.70732809, 6.68103995],\n",
       "       [3.57968458, 4.80278074],\n",
       "       [5.63937773, 6.12043594],\n",
       "       [4.26346851, 4.68942896],\n",
       "       [2.53651693, 3.88449078],\n",
       "       [3.22382902, 4.94255585],\n",
       "       [4.92948801, 5.95501971],\n",
       "       [5.79295774, 5.10839305],\n",
       "       [2.81684824, 4.81895769],\n",
       "       [3.88882414, 5.10036564],\n",
       "       [3.34323419, 5.89301345],\n",
       "       [5.87973414, 5.52141664],\n",
       "       [3.10391912, 3.85710242],\n",
       "       [5.33150572, 4.68074235],\n",
       "       [3.37542687, 4.56537852],\n",
       "       [4.77667888, 6.25435039],\n",
       "       [2.6757463 , 3.73096988],\n",
       "       [5.50027665, 5.67948113],\n",
       "       [1.79709714, 3.24753885],\n",
       "       [4.3225147 , 5.11110472],\n",
       "       [4.42100445, 6.02563978],\n",
       "       [3.17929886, 4.43686032],\n",
       "       [3.03354125, 3.97879278],\n",
       "       [4.6093482 , 5.879792  ],\n",
       "       [2.96378859, 3.30024835],\n",
       "       [3.97176248, 5.40773735],\n",
       "       [1.18023321, 2.87869409],\n",
       "       [1.91895045, 5.07107848],\n",
       "       [3.95524687, 4.5053271 ],\n",
       "       [5.11795499, 6.08507386]])"
      ]
     },
     "execution_count": 147,
     "metadata": {},
     "output_type": "execute_result"
    }
   ],
   "source": [
    "data3"
   ]
  },
  {
   "cell_type": "code",
   "execution_count": null,
   "metadata": {},
   "outputs": [],
   "source": []
  },
  {
   "cell_type": "code",
   "execution_count": null,
   "metadata": {},
   "outputs": [],
   "source": []
  },
  {
   "cell_type": "code",
   "execution_count": null,
   "metadata": {},
   "outputs": [],
   "source": []
  },
  {
   "cell_type": "code",
   "execution_count": 111,
   "metadata": {},
   "outputs": [],
   "source": [
    "def caculate_norm(vector):\n",
    "    return "
   ]
  },
  {
   "cell_type": "code",
   "execution_count": 139,
   "metadata": {},
   "outputs": [
    {
     "data": {
      "text/plain": [
       "18.838273471359997"
      ]
     },
     "execution_count": 139,
     "metadata": {},
     "output_type": "execute_result"
    }
   ],
   "source": []
  },
  {
   "cell_type": "code",
   "execution_count": null,
   "metadata": {},
   "outputs": [],
   "source": []
  }
 ],
 "metadata": {
  "kernelspec": {
   "display_name": "Python 3",
   "language": "python",
   "name": "python3"
  },
  "language_info": {
   "codemirror_mode": {
    "name": "ipython",
    "version": 3
   },
   "file_extension": ".py",
   "mimetype": "text/x-python",
   "name": "python",
   "nbconvert_exporter": "python",
   "pygments_lexer": "ipython3",
   "version": "3.7.6"
  }
 },
 "nbformat": 4,
 "nbformat_minor": 4
}
